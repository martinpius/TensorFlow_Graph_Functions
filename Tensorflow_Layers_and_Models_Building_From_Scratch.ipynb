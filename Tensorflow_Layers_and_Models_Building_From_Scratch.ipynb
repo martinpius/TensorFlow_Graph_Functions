{
  "nbformat": 4,
  "nbformat_minor": 0,
  "metadata": {
    "colab": {
      "name": "Tensorflow_Layers and Models Building From Scratch.ipynb",
      "provenance": [],
      "toc_visible": true,
      "authorship_tag": "ABX9TyNO3K63rnhWv49IBzhTKW0g",
      "include_colab_link": true
    },
    "kernelspec": {
      "name": "python3",
      "display_name": "Python 3"
    }
  },
  "cells": [
    {
      "cell_type": "markdown",
      "metadata": {
        "id": "view-in-github",
        "colab_type": "text"
      },
      "source": [
        "<a href=\"https://colab.research.google.com/github/martinpius/TensorFlow_Graph_Functions/blob/main/Tensorflow_Layers_and_Models_Building_From_Scratch.ipynb\" target=\"_parent\"><img src=\"https://colab.research.google.com/assets/colab-badge.svg\" alt=\"Open In Colab\"/></a>"
      ]
    },
    {
      "cell_type": "code",
      "metadata": {
        "colab": {
          "base_uri": "https://localhost:8080/"
        },
        "id": "i02wEWST5u4u",
        "outputId": "c857a4fe-3820-400c-e17b-c09a80423f5b"
      },
      "source": [
        "#Setting up the colab environment:\n",
        "from google.colab import drive\n",
        "try:\n",
        "  drive.mount(\"/content/drive\", force_remount = True)\n",
        "  COLAB = True\n",
        "  import tensorflow as tf\n",
        "  print(f\"You are using Google colab with tensorflow version: {tf.__version__}\")\n",
        "except:\n",
        "  COLAB = False\n",
        "  print('Please setup the colab environment:')\n",
        "\n",
        "def time_fmt(x):\n",
        "  h = int(x/(60*60))\n",
        "  m = int(x%(60*60)/60)\n",
        "  s = int(x%60)\n",
        "  return f\"{h}: {m:>03}: {s:>05.2f}\""
      ],
      "execution_count": 2,
      "outputs": [
        {
          "output_type": "stream",
          "text": [
            "Mounted at /content/drive\n",
            "You are using Google colab with tensorflow version: 2.3.1\n"
          ],
          "name": "stdout"
        }
      ]
    },
    {
      "cell_type": "code",
      "metadata": {
        "colab": {
          "base_uri": "https://localhost:8080/"
        },
        "id": "kcYFsmHG7e7V",
        "outputId": "ba780284-b930-4dd0-8072-57a6f0913424"
      },
      "source": [
        "#Importing necessary packs\n",
        "import tensorflow as tf\n",
        "import numpy as np\n",
        "import matplotlib.pyplot as plt\n",
        "import time\n",
        "import timeit\n",
        "from datetime import datetime\n",
        "plt.style.use('fivethirtyeight')\n",
        "%load_ext tensorboard\n",
        "%matplotlib inline"
      ],
      "execution_count": 3,
      "outputs": [
        {
          "output_type": "stream",
          "text": [
            "The tensorboard extension is already loaded. To reload it, use:\n",
            "  %reload_ext tensorboard\n"
          ],
          "name": "stdout"
        }
      ]
    },
    {
      "cell_type": "code",
      "metadata": {
        "id": "0lSTuvwK8D2m"
      },
      "source": [
        "#Creating, saving and resoring tensorflow models from scratch (tf building blocks (layers, models, variables))"
      ],
      "execution_count": 4,
      "outputs": []
    },
    {
      "cell_type": "code",
      "metadata": {
        "colab": {
          "base_uri": "https://localhost:8080/"
        },
        "id": "oeSgb4hZ8sQj",
        "outputId": "beefebac-93ba-4fc0-9bf0-138c93797c04"
      },
      "source": [
        "#A simple tensorflow module example\n",
        "class MytfModule(tf.Module):\n",
        "  def __init__(self, name = None):\n",
        "    super(MytfModule, self).__init__(name = name)\n",
        "    self.var_train = tf.Variable(initial_value = 3.1467, trainable = True, name = 'trainable_variable')\n",
        "    self.var_non_train = tf.Variable(initial_value = 12.8, trainable = False, name = 'non_trainable_variable')\n",
        "  \n",
        "  def __call__(self, inputs):\n",
        "    out = tf.multiply(self.var_train, inputs) + self.var_non_train\n",
        "    return out\n",
        "mymodule = MytfModule(name = 'test')\n",
        "mymodule(tf.constant(2, dtype= tf.float32))"
      ],
      "execution_count": 5,
      "outputs": [
        {
          "output_type": "execute_result",
          "data": {
            "text/plain": [
              "<tf.Tensor: shape=(), dtype=float32, numpy=19.0934>"
            ]
          },
          "metadata": {
            "tags": []
          },
          "execution_count": 5
        }
      ]
    },
    {
      "cell_type": "code",
      "metadata": {
        "colab": {
          "base_uri": "https://localhost:8080/"
        },
        "id": "0N97n0CSYe4V",
        "outputId": "618ecc6c-e44b-40c9-8627-3071dd261da7"
      },
      "source": [
        "#Subclassing\n",
        "print(f\"Total variables: {mymodule.variables}\\nTrainable variables: {mymodule.trainable_variables}\\nNon trainable variables: {mymodule.var_non_train}\")"
      ],
      "execution_count": 6,
      "outputs": [
        {
          "output_type": "stream",
          "text": [
            "Total variables: (<tf.Variable 'non_trainable_variable:0' shape=() dtype=float32, numpy=12.8>, <tf.Variable 'trainable_variable:0' shape=() dtype=float32, numpy=3.1467>)\n",
            "Trainable variables: (<tf.Variable 'trainable_variable:0' shape=() dtype=float32, numpy=3.1467>,)\n",
            "Non trainable variables: <tf.Variable 'non_trainable_variable:0' shape=() dtype=float32, numpy=12.8>\n"
          ],
          "name": "stdout"
        }
      ]
    },
    {
      "cell_type": "code",
      "metadata": {
        "colab": {
          "base_uri": "https://localhost:8080/"
        },
        "id": "79x3EGOcbRw4",
        "outputId": "9d793bf7-4ef6-4af0-a467-f798be311377"
      },
      "source": [
        "#Tensorflow linear dense layer\n",
        "class tfLinear(tf.Module):\n",
        "  def __init__(self, a, b, name = None):\n",
        "    super(tfLinear, self).__init__(name = name)\n",
        "    self.w = tf.Variable(tf.random.normal([a, b]), name = 'weight')\n",
        "    self.b = tf.Variable(tf.zeros(b,),name = 'bias')\n",
        "  def __call__(self, inputs):\n",
        "    out = tf.matmul(inputs, self.w) + self.b\n",
        "    return tf.nn.relu(out)\n",
        "\n",
        "mylinear = tfLinear(4,4)\n",
        "x = tf.ones(shape = [2,4])\n",
        "mylinear(x)"
      ],
      "execution_count": 7,
      "outputs": [
        {
          "output_type": "execute_result",
          "data": {
            "text/plain": [
              "<tf.Tensor: shape=(2, 4), dtype=float32, numpy=\n",
              "array([[0.       , 0.       , 1.7085505, 1.2305462],\n",
              "       [0.       , 0.       , 1.7085505, 1.2305462]], dtype=float32)>"
            ]
          },
          "metadata": {
            "tags": []
          },
          "execution_count": 7
        }
      ]
    },
    {
      "cell_type": "code",
      "metadata": {
        "colab": {
          "base_uri": "https://localhost:8080/"
        },
        "id": "e4hXjytBepau",
        "outputId": "3a24ac27-134b-4167-8309-02fcc140550c"
      },
      "source": [
        "#A complete two layers sequential model\n",
        "class CModel(tf.Module):\n",
        "  def __init__(self, name = None):\n",
        "    super(CModel, self).__init__(name = name)\n",
        "    self.l1 = tf.keras.layers.Dense(units = 32,activation = 'relu')\n",
        "    self.l2 = tf.keras.layers.Dense(units = 10, activation = 'softmax')\n",
        "  def __call__(self, inputs):\n",
        "    inputs = self.l1(inputs)\n",
        "    inputs = self.l2(inputs)\n",
        "    return inputs\n",
        "\n",
        "cmodel = CModel(name = 'test')\n",
        "x = tf.ones(shape = (2,2))\n",
        "cmodel(x)\n"
      ],
      "execution_count": 8,
      "outputs": [
        {
          "output_type": "execute_result",
          "data": {
            "text/plain": [
              "<tf.Tensor: shape=(2, 10), dtype=float32, numpy=\n",
              "array([[0.17658514, 0.09391515, 0.07037135, 0.0852779 , 0.05337677,\n",
              "        0.07467252, 0.0968036 , 0.10545976, 0.09042767, 0.15311007],\n",
              "       [0.17658514, 0.09391515, 0.07037135, 0.0852779 , 0.05337677,\n",
              "        0.07467252, 0.0968036 , 0.10545976, 0.09042767, 0.15311007]],\n",
              "      dtype=float32)>"
            ]
          },
          "metadata": {
            "tags": []
          },
          "execution_count": 8
        }
      ]
    },
    {
      "cell_type": "code",
      "metadata": {
        "colab": {
          "base_uri": "https://localhost:8080/"
        },
        "id": "hulkYuoUhAZU",
        "outputId": "720fddef-1e0c-4294-ce35-217aacc63539"
      },
      "source": [
        "print(f\"sub_modules: {cmodel.submodules}\")"
      ],
      "execution_count": 9,
      "outputs": [
        {
          "output_type": "stream",
          "text": [
            "sub_modules: (<tensorflow.python.keras.layers.core.Dense object at 0x7f65286d8940>, <tensorflow.python.keras.layers.core.Dense object at 0x7f65286daf28>)\n"
          ],
          "name": "stdout"
        }
      ]
    },
    {
      "cell_type": "code",
      "metadata": {
        "colab": {
          "base_uri": "https://localhost:8080/"
        },
        "id": "rBR88_-mi0SP",
        "outputId": "9e482a44-236d-4d32-8650-74f9ceff0e9a"
      },
      "source": [
        "for k in cmodel.variables: #Print detail for each trainable variable\n",
        "  print(k,'\\n')"
      ],
      "execution_count": 10,
      "outputs": [
        {
          "output_type": "stream",
          "text": [
            "<tf.Variable 'dense/kernel:0' shape=(2, 32) dtype=float32, numpy=\n",
            "array([[ 0.12897786,  0.10890433, -0.33441052,  0.28452018,  0.2852464 ,\n",
            "        -0.15534422, -0.3122832 ,  0.39866433,  0.19821563, -0.22019611,\n",
            "        -0.05265513, -0.1443544 , -0.02657965,  0.02315024,  0.2558603 ,\n",
            "        -0.10767114, -0.19219545,  0.1552752 ,  0.3089246 ,  0.17077151,\n",
            "         0.195954  , -0.28949094,  0.4002737 , -0.1664494 ,  0.3734571 ,\n",
            "        -0.10096711, -0.13449857, -0.02573293, -0.18366829, -0.1416493 ,\n",
            "        -0.22424291,  0.29258713],\n",
            "       [-0.09529549, -0.11160946, -0.24085566, -0.11641082, -0.22366932,\n",
            "         0.07784143,  0.3689737 , -0.18405828, -0.10549673, -0.30272382,\n",
            "        -0.1231387 ,  0.06713006,  0.16042951, -0.01923853, -0.02091515,\n",
            "         0.3865808 ,  0.36309835,  0.4029124 ,  0.30634424,  0.3944935 ,\n",
            "         0.38910505,  0.16134706,  0.09669384,  0.2941853 , -0.37184057,\n",
            "        -0.13992262, -0.24770972,  0.12811676, -0.15779933, -0.11655846,\n",
            "        -0.22917518, -0.41361085]], dtype=float32)> \n",
            "\n",
            "<tf.Variable 'dense/bias:0' shape=(32,) dtype=float32, numpy=\n",
            "array([0., 0., 0., 0., 0., 0., 0., 0., 0., 0., 0., 0., 0., 0., 0., 0., 0.,\n",
            "       0., 0., 0., 0., 0., 0., 0., 0., 0., 0., 0., 0., 0., 0., 0.],\n",
            "      dtype=float32)> \n",
            "\n",
            "<tf.Variable 'dense_1/kernel:0' shape=(32, 10) dtype=float32, numpy=\n",
            "array([[-0.16151646,  0.06893459, -0.05074269, -0.28764382, -0.17065427,\n",
            "         0.0759539 , -0.03239933,  0.1952627 , -0.10358179, -0.02277869],\n",
            "       [-0.10890245,  0.19240203,  0.23908821,  0.32343003,  0.15683588,\n",
            "        -0.03818309, -0.13246469,  0.07184651, -0.17382501, -0.33819115],\n",
            "       [ 0.1790345 ,  0.25339004, -0.20756108,  0.10114774,  0.33269063,\n",
            "        -0.08063594, -0.3540381 , -0.09523627,  0.10889778, -0.21665365],\n",
            "       [-0.12369752,  0.07977995,  0.25641444,  0.34303412, -0.21107407,\n",
            "        -0.34927064,  0.30995497,  0.22777668,  0.2744126 , -0.2997889 ],\n",
            "       [ 0.1487594 , -0.01043391, -0.03182647,  0.34725377, -0.2834322 ,\n",
            "         0.2478948 ,  0.30214033, -0.15084745, -0.319986  ,  0.2535362 ],\n",
            "       [ 0.1493322 , -0.09388211,  0.16120681, -0.01329529,  0.2640815 ,\n",
            "        -0.23301668,  0.36889443,  0.20903406,  0.1604214 ,  0.16915372],\n",
            "       [ 0.20759985,  0.08362943,  0.2102252 ,  0.26125714, -0.01022801,\n",
            "        -0.22806726,  0.2797511 ,  0.0993605 ,  0.18969294, -0.22509766],\n",
            "       [-0.16623707,  0.32249406, -0.20226887, -0.18094589,  0.02932003,\n",
            "        -0.07895696,  0.35691705, -0.29576758, -0.24264966, -0.2685359 ],\n",
            "       [ 0.20453063,  0.1380451 ,  0.00740564, -0.13516314, -0.04640454,\n",
            "         0.08079544, -0.24156812, -0.147324  ,  0.36389753, -0.04364643],\n",
            "       [-0.37716046, -0.28923965,  0.37593445, -0.01810837,  0.36441842,\n",
            "         0.2508234 , -0.28793246,  0.09491754, -0.35686433,  0.21794441],\n",
            "       [ 0.0090549 ,  0.18559793,  0.23376653, -0.3710704 , -0.13628443,\n",
            "        -0.23174743,  0.34361634, -0.04761657, -0.08644369, -0.25713402],\n",
            "       [ 0.11784744,  0.19029608,  0.32104185, -0.34864235, -0.20500247,\n",
            "        -0.10911423,  0.2564812 , -0.1320272 , -0.37188494, -0.04368454],\n",
            "       [-0.28380108, -0.25946596, -0.32677743, -0.3625069 ,  0.22697833,\n",
            "         0.2365605 ,  0.1924223 , -0.11434183, -0.27210182, -0.13397068],\n",
            "       [-0.30777514,  0.2323511 , -0.3621394 , -0.24481626,  0.15309283,\n",
            "        -0.08206317,  0.31192818, -0.35551038, -0.21174596, -0.12042189],\n",
            "       [-0.03994274,  0.29207328,  0.00921538, -0.03704053,  0.28226963,\n",
            "        -0.35460004,  0.09742028,  0.2339938 , -0.09365332, -0.10616472],\n",
            "       [ 0.21843293,  0.09811088, -0.2224503 ,  0.12552825,  0.06933433,\n",
            "        -0.14202738,  0.15848431, -0.13632165,  0.02206668,  0.20325091],\n",
            "       [ 0.25160524,  0.17900589,  0.36187044, -0.1731341 , -0.35144076,\n",
            "        -0.25959545, -0.14918377, -0.12284234,  0.25222018,  0.35690352],\n",
            "       [ 0.03795394, -0.2685507 , -0.2637735 , -0.2888698 , -0.30199182,\n",
            "        -0.13455984, -0.01338217, -0.07012543, -0.3766526 ,  0.27450028],\n",
            "       [ 0.3675346 ,  0.22125307, -0.3107409 ,  0.14071205,  0.00700301,\n",
            "         0.02235037, -0.32022184,  0.04157606,  0.29573813,  0.06309432],\n",
            "       [ 0.15898886,  0.27561328,  0.34566745,  0.23695621, -0.19743653,\n",
            "         0.35256836, -0.23392025, -0.19408754,  0.25315198,  0.37182274],\n",
            "       [ 0.075811  , -0.2866605 , -0.31239572,  0.06107947, -0.26483405,\n",
            "        -0.29307228, -0.06058285,  0.06387371, -0.08308443, -0.01974609],\n",
            "       [-0.12390813,  0.08606422,  0.29491463, -0.28137308, -0.2552207 ,\n",
            "         0.3624374 , -0.01275796,  0.34175327, -0.20515594,  0.1832448 ],\n",
            "       [ 0.3692464 , -0.3575718 ,  0.05235997, -0.37475562, -0.23999725,\n",
            "        -0.07110551,  0.26209125,  0.35111734, -0.28649053,  0.2947859 ],\n",
            "       [-0.08210734,  0.0014255 , -0.18902883, -0.31439453, -0.22582343,\n",
            "         0.3352044 ,  0.12309465,  0.18138835,  0.26530012, -0.0964199 ],\n",
            "       [ 0.04742551, -0.06517684,  0.15207389,  0.13300583, -0.3475097 ,\n",
            "        -0.1347899 , -0.01886064, -0.2753406 ,  0.15185204,  0.31101528],\n",
            "       [-0.21667068, -0.08009607, -0.21836112, -0.15980773, -0.33279198,\n",
            "        -0.10810378, -0.21305883, -0.11389017,  0.15673682, -0.12771884],\n",
            "       [-0.25789672,  0.26358387,  0.2588056 , -0.0318124 , -0.11302507,\n",
            "        -0.14089754,  0.2671353 , -0.14367187, -0.11155036,  0.16518697],\n",
            "       [ 0.11167166, -0.2275302 ,  0.3674164 ,  0.22111031, -0.16450185,\n",
            "        -0.34970218,  0.15872273,  0.2858481 , -0.32408994, -0.32182783],\n",
            "       [-0.0035558 ,  0.06855917,  0.0078108 , -0.3235446 , -0.2914213 ,\n",
            "        -0.16994552,  0.31424   ,  0.07509369, -0.22609486,  0.19790557],\n",
            "       [-0.33389434,  0.1989133 , -0.14476873, -0.19951932,  0.01111498,\n",
            "        -0.19214009,  0.35659757,  0.0644646 ,  0.14654103,  0.06866288],\n",
            "       [-0.37549663, -0.2457913 , -0.1216442 , -0.16344498,  0.14412847,\n",
            "         0.1290125 , -0.26133257, -0.23896463,  0.21325365, -0.28368717],\n",
            "       [ 0.00817782,  0.13592705, -0.21486399,  0.29698572,  0.2084594 ,\n",
            "         0.28283307, -0.07149282,  0.18025586, -0.21280181, -0.29080743]],\n",
            "      dtype=float32)> \n",
            "\n",
            "<tf.Variable 'dense_1/bias:0' shape=(10,) dtype=float32, numpy=array([0., 0., 0., 0., 0., 0., 0., 0., 0., 0.], dtype=float32)> \n",
            "\n"
          ],
          "name": "stdout"
        }
      ]
    },
    {
      "cell_type": "code",
      "metadata": {
        "id": "yFggOBMctiJk"
      },
      "source": [
        "#Differing the input shape to be defined later in the process\n",
        "class LayerDiff(tf.Module):\n",
        "  def __init__(self,units, name = None):\n",
        "    super(LayerDiff, self).__init__(name = name)\n",
        "    self.built = False\n",
        "    self.units = units\n",
        "  def __call__(self,inputs):\n",
        "    if not self.built:\n",
        "      self.w = tf.Variable(tf.random.normal([inputs.shape[-1], self.units]), name = 'w')\n",
        "      self.b = tf.Variable(tf.zeros([self.units]), name = 'b')\n",
        "      self.built = True\n",
        "    out = tf.matmul(inputs, self.w) + self.b\n",
        "    return tf.nn.relu(out)\n"
      ],
      "execution_count": 11,
      "outputs": []
    },
    {
      "cell_type": "code",
      "metadata": {
        "colab": {
          "base_uri": "https://localhost:8080/"
        },
        "id": "5gr9dFk1y2mW",
        "outputId": "d9bc6e85-fb2b-4e67-d5b5-a525036b1c89"
      },
      "source": [
        "layer2 = LayerDiff(units = 32, name = 'dense_1')\n",
        "layer2(tf.constant([[2.0,1.2,4.2,1.3]], dtype = tf.float32))"
      ],
      "execution_count": 12,
      "outputs": [
        {
          "output_type": "execute_result",
          "data": {
            "text/plain": [
              "<tf.Tensor: shape=(1, 32), dtype=float32, numpy=\n",
              "array([[0.12075353, 0.5491103 , 0.        , 0.        , 4.1164203 ,\n",
              "        0.        , 5.001314  , 0.        , 0.        , 4.128237  ,\n",
              "        0.        , 3.0755625 , 0.9339832 , 0.        , 5.397764  ,\n",
              "        0.        , 0.        , 0.        , 0.        , 1.1700965 ,\n",
              "        0.        , 5.8723135 , 6.8778067 , 0.        , 8.695045  ,\n",
              "        2.6232352 , 0.        , 2.789588  , 0.        , 0.        ,\n",
              "        3.0459366 , 0.        ]], dtype=float32)>"
            ]
          },
          "metadata": {
            "tags": []
          },
          "execution_count": 12
        }
      ]
    },
    {
      "cell_type": "code",
      "metadata": {
        "colab": {
          "base_uri": "https://localhost:8080/"
        },
        "id": "c9fZomVAzMMN",
        "outputId": "e4966339-fba0-413d-bb7c-90524d7d047c"
      },
      "source": [
        "#We can use the above layer by stacking to create a keras sequential model as follow:\n",
        "class MySequential(tf.Module):\n",
        "  def __init__(self, name = None):\n",
        "    super(MySequential, self).__init__(name = name)\n",
        "    self.l1 = LayerDiff(units = 128, name = 'dense_1')\n",
        "    self.l2 = LayerDiff(units = 64, name = 'dense_2')\n",
        "\n",
        "  def __call__(self, inputs):\n",
        "    inputs = self.l1(inputs)\n",
        "    return self.l2(inputs)\n",
        "\n",
        "myseq = MySequential()\n",
        "print(myseq(tf.constant([[22.1,21.9,11.7,21.8,22.,18.9]])))\n"
      ],
      "execution_count": 13,
      "outputs": [
        {
          "output_type": "stream",
          "text": [
            "tf.Tensor(\n",
            "[[   0.         43.34645     0.        356.30545   201.97498     0.\n",
            "     0.          0.        440.9583    413.65805     0.          0.\n",
            "     0.        342.6621     81.71755    98.726585    0.          0.\n",
            "     0.          0.        234.5314    255.41422     0.        737.33844\n",
            "     0.          0.          0.          0.          0.          0.\n",
            "   686.3242    654.6912      0.          0.          0.          0.\n",
            "     0.          0.        174.3163    446.2407    435.45282   414.924\n",
            "   413.672     786.61487    17.557755  561.9615    228.11806     0.\n",
            "   366.72495   114.405624    0.        225.60645     0.        118.908775\n",
            "  1360.7952    118.551254  311.09283   599.37537    46.557144  489.6618\n",
            "     0.        346.27753   317.04926   162.05762 ]], shape=(1, 64), dtype=float32)\n"
          ],
          "name": "stdout"
        }
      ]
    },
    {
      "cell_type": "code",
      "metadata": {
        "id": "_3MpNhfI8ogP"
      },
      "source": [
        "#Saving the models weight for future use(without the architecture of the model)\n",
        "chkp_path = \"mypath\"\n",
        "Checkpoint = tf.train.Checkpoint(model = myseq)\n"
      ],
      "execution_count": 14,
      "outputs": []
    },
    {
      "cell_type": "code",
      "metadata": {
        "colab": {
          "base_uri": "https://localhost:8080/",
          "height": 35
        },
        "id": "31eSWNdhWar3",
        "outputId": "77f54268-2f35-43f0-8153-0b8bc12c4ff9"
      },
      "source": [
        "Checkpoint.write(chkp_path)\n",
        "Checkpoint.write(chkp_path)"
      ],
      "execution_count": 15,
      "outputs": [
        {
          "output_type": "execute_result",
          "data": {
            "application/vnd.google.colaboratory.intrinsic+json": {
              "type": "string"
            },
            "text/plain": [
              "'mypath'"
            ]
          },
          "metadata": {
            "tags": []
          },
          "execution_count": 15
        }
      ]
    },
    {
      "cell_type": "code",
      "metadata": {
        "colab": {
          "base_uri": "https://localhost:8080/"
        },
        "id": "0twBaGQMWgyJ",
        "outputId": "7f9cee19-bf89-4f38-aa99-cec95e44a707"
      },
      "source": [
        "ls mypath* #To get the content of the directory"
      ],
      "execution_count": 16,
      "outputs": [
        {
          "output_type": "stream",
          "text": [
            "mypath.data-00000-of-00001  mypath.index\n"
          ],
          "name": "stdout"
        }
      ]
    },
    {
      "cell_type": "code",
      "metadata": {
        "id": "aHItpSKlY8vS"
      },
      "source": [
        "try: \n",
        "  tf.train.list_variables(chkp_path)\n",
        "except Exception as e:\n",
        "  print(f\"{type(e)}: {e}\")"
      ],
      "execution_count": 17,
      "outputs": []
    },
    {
      "cell_type": "code",
      "metadata": {
        "colab": {
          "base_uri": "https://localhost:8080/"
        },
        "id": "QyOhTBTZZWu9",
        "outputId": "e048c7a7-9044-4187-a8fd-162c99537791"
      },
      "source": [
        "#Re-load the model's weight by overriding the original\n",
        "new_seq = MySequential()\n",
        "new_checkpoint = tf.train.Checkpoint(model = new_seq)\n",
        "new_checkpoint.restore('mypath')"
      ],
      "execution_count": 18,
      "outputs": [
        {
          "output_type": "execute_result",
          "data": {
            "text/plain": [
              "<tensorflow.python.training.tracking.util.CheckpointLoadStatus at 0x7f6528f33978>"
            ]
          },
          "metadata": {
            "tags": []
          },
          "execution_count": 18
        }
      ]
    },
    {
      "cell_type": "code",
      "metadata": {
        "colab": {
          "base_uri": "https://localhost:8080/"
        },
        "id": "N-1hlOb-cP4q",
        "outputId": "63246665-04f6-4477-8c36-21baad0c5ea5"
      },
      "source": [
        "#try the reloaded model\n",
        "new_seq(tf.constant([[2.3,3.1,2.]]))"
      ],
      "execution_count": 20,
      "outputs": [
        {
          "output_type": "execute_result",
          "data": {
            "text/plain": [
              "<tf.Tensor: shape=(1, 64), dtype=float32, numpy=\n",
              "array([[ 0.        , 19.49403   , 28.065937  , 20.493654  ,  0.        ,\n",
              "         0.        ,  0.        , 27.487549  , 11.420691  ,  0.        ,\n",
              "         0.        , 13.330731  ,  8.503112  , 48.825157  ,  2.7374225 ,\n",
              "         0.        , 23.163027  ,  0.3695402 ,  0.        ,  0.        ,\n",
              "         0.        , 21.348148  ,  0.        ,  2.770853  ,  0.        ,\n",
              "         0.        ,  0.        ,  0.        ,  0.        ,  0.        ,\n",
              "        70.81597   , 44.85498   ,  0.        ,  3.3824253 , 33.1372    ,\n",
              "         0.        ,  1.9296751 ,  0.        ,  5.382282  ,  0.        ,\n",
              "         0.        , 16.82231   ,  0.        , 19.365557  ,  0.        ,\n",
              "         0.14954281,  0.        ,  0.        ,  3.2604165 ,  0.        ,\n",
              "        24.502707  , 15.198119  , 32.02542   , 34.12722   , 18.4076    ,\n",
              "        12.440171  , 14.074172  , 20.661797  ,  0.        , 50.719875  ,\n",
              "        10.694959  , 21.383207  ,  0.        ,  0.        ]],\n",
              "      dtype=float32)>"
            ]
          },
          "metadata": {
            "tags": []
          },
          "execution_count": 20
        }
      ]
    },
    {
      "cell_type": "code",
      "metadata": {
        "id": "F35CE5V4j9uB"
      },
      "source": [
        "#Saving functions using graph.\n",
        "class NewModel(tf.Module):\n",
        "  def __init__(self, name = None):\n",
        "    super(NewModel, self).__init__(name = name)\n",
        "    self.dense1 = tf.keras.layers.Dense(units = 128, activation = 'relu')\n",
        "    self.dense2 = tf.keras.layers.Dense(units = 10, activation = 'softmax')\n",
        "\n",
        "  @tf.function#To allow computational graph\n",
        "  def __call__(self, inputs):\n",
        "    inputs = self.dense1(inputs)\n",
        "    return self.dense2(inputs)\n",
        "\n",
        "model = NewModel(name = 'Test')\n"
      ],
      "execution_count": 21,
      "outputs": []
    },
    {
      "cell_type": "code",
      "metadata": {
        "colab": {
          "base_uri": "https://localhost:8080/",
          "height": 85
        },
        "id": "LltzZcfdnEpm",
        "outputId": "bc9d5d32-e06e-4a01-ed98-3375303111d9"
      },
      "source": [
        "display(model(tf.constant([[2.1,3.3,2.1,2.8]])))"
      ],
      "execution_count": 22,
      "outputs": [
        {
          "output_type": "display_data",
          "data": {
            "text/plain": [
              "<tf.Tensor: shape=(1, 10), dtype=float32, numpy=\n",
              "array([[0.07235826, 0.04270705, 0.13283753, 0.06921989, 0.141531  ,\n",
              "        0.06215461, 0.03465841, 0.28989214, 0.09057181, 0.06406926]],\n",
              "      dtype=float32)>"
            ]
          },
          "metadata": {
            "tags": []
          }
        }
      ]
    },
    {
      "cell_type": "code",
      "metadata": {
        "colab": {
          "base_uri": "https://localhost:8080/"
        },
        "id": "sj4HR-UnnRIx",
        "outputId": "ae537b49-9247-483d-cd90-ca4cc0a53ddc"
      },
      "source": [
        "#Tracing the graph through the tensorboard to visualize\n",
        "time_stamp = datetime.now()\n",
        "dir_log = '/logs/func/%s' % time_stamp\n",
        "file_writer = tf.summary.create_file_writer(dir_log)\n",
        "model1 = NewModel(name = 'Test')#Call the model again\n",
        "tf.summary.trace_on(graph = True, profiler = True)\n",
        "m = print(model1(tf.constant([[2.1,2.3,2.5,1.3]])))\n",
        "with file_writer.as_default():\n",
        "  tf.summary.trace_export(name = 'mytest',\n",
        "                          step = 0,\n",
        "                          profiler_outdir = dir_log)\n"
      ],
      "execution_count": 29,
      "outputs": [
        {
          "output_type": "stream",
          "text": [
            "tf.Tensor(\n",
            "[[0.16655011 0.12352917 0.0835418  0.11369362 0.02807372 0.1005584\n",
            "  0.11611107 0.08334519 0.13152821 0.05306866]], shape=(1, 10), dtype=float32)\n"
          ],
          "name": "stdout"
        }
      ]
    },
    {
      "cell_type": "code",
      "metadata": {
        "colab": {
          "base_uri": "https://localhost:8080/"
        },
        "id": "1qvxzVtbxA6Q",
        "outputId": "211f248b-5e4f-4272-8a35-2a42e86aa2e6"
      },
      "source": [
        "tf.saved_model.save(model1, 'test_model') #save the whole model for sharing"
      ],
      "execution_count": 30,
      "outputs": [
        {
          "output_type": "stream",
          "text": [
            "WARNING:tensorflow:From /usr/local/lib/python3.6/dist-packages/tensorflow/python/training/tracking/tracking.py:111: Layer.updates (from tensorflow.python.keras.engine.base_layer) is deprecated and will be removed in a future version.\n",
            "Instructions for updating:\n",
            "This property should not be used in TensorFlow 2.0, as updates are applied automatically.\n",
            "INFO:tensorflow:Assets written to: test_model/assets\n"
          ],
          "name": "stdout"
        }
      ]
    },
    {
      "cell_type": "code",
      "metadata": {
        "colab": {
          "base_uri": "https://localhost:8080/"
        },
        "id": "3zhkYh2c2kLG",
        "outputId": "8eb378fd-740a-4a9f-e266-9b7d4d983f4f"
      },
      "source": [
        "ls -l test_model #check the saved model"
      ],
      "execution_count": 31,
      "outputs": [
        {
          "output_type": "stream",
          "text": [
            "total 24\n",
            "drwxr-xr-x 2 root root  4096 Nov 19 09:33 \u001b[0m\u001b[01;34massets\u001b[0m/\n",
            "-rw-r--r-- 1 root root 16042 Nov 19 09:33 saved_model.pb\n",
            "drwxr-xr-x 2 root root  4096 Nov 19 09:33 \u001b[01;34mvariables\u001b[0m/\n"
          ],
          "name": "stdout"
        }
      ]
    },
    {
      "cell_type": "code",
      "metadata": {
        "colab": {
          "base_uri": "https://localhost:8080/"
        },
        "id": "8OpCDwV6235X",
        "outputId": "bbae3c73-0a41-4b70-ee8c-5665c89fcb7f"
      },
      "source": [
        "ls -l test_model/variables"
      ],
      "execution_count": 33,
      "outputs": [
        {
          "output_type": "stream",
          "text": [
            "total 16\n",
            "-rw-r--r-- 1 root root 8726 Nov 19 09:33 variables.data-00000-of-00001\n",
            "-rw-r--r-- 1 root root  381 Nov 19 09:33 variables.index\n"
          ],
          "name": "stdout"
        }
      ]
    },
    {
      "cell_type": "code",
      "metadata": {
        "id": "-RPrOq983D5B"
      },
      "source": [
        ""
      ],
      "execution_count": null,
      "outputs": []
    }
  ]
}