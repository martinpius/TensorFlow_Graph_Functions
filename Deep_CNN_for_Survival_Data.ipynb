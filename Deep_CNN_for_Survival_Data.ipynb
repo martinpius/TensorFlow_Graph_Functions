{
  "nbformat": 4,
  "nbformat_minor": 0,
  "metadata": {
    "colab": {
      "name": "Deep_CNN for Survival Data.ipynb",
      "provenance": [],
      "authorship_tag": "ABX9TyOnd/LK+EFJsh72omAhzoqT",
      "include_colab_link": true
    },
    "kernelspec": {
      "name": "python3",
      "display_name": "Python 3"
    }
  },
  "cells": [
    {
      "cell_type": "markdown",
      "metadata": {
        "id": "view-in-github",
        "colab_type": "text"
      },
      "source": [
        "<a href=\"https://colab.research.google.com/github/martinpius/TensorFlow_Graph_Functions/blob/main/Deep_CNN_for_Survival_Data.ipynb\" target=\"_parent\"><img src=\"https://colab.research.google.com/assets/colab-badge.svg\" alt=\"Open In Colab\"/></a>"
      ]
    },
    {
      "cell_type": "code",
      "metadata": {
        "colab": {
          "base_uri": "https://localhost:8080/"
        },
        "id": "-bdURmVeNX20",
        "outputId": "74ea1571-60d6-4f11-edf0-62c03f126595"
      },
      "source": [
        "from google.colab import drive\n",
        "drive.mount(\"/content/drive\", force_remount = True)\n",
        "try:\n",
        "  COLAB = True\n",
        "  import tensorflow as tf\n",
        "  print(f\"You are on Colab with tensorflow version: {tf.__version__}\")\n",
        "except Exception as e:\n",
        "  COLAB = False\n",
        "  print(f\"{type(e)}: {e}\\n....Please Load Your Drive....\")\n",
        "\n",
        "def time_fmt(t):\n",
        "  h = int(t / (60 * 60) )\n",
        "  m = int(t % (60 * 60)/ 60)\n",
        "  s = int(t % 60)\n",
        "  return f\"{h}: {m:>03}: {s:>05.2f}\"\n",
        "\n",
        "print(f\"time: testing {time_fmt(123.8733)}\")"
      ],
      "execution_count": 1,
      "outputs": [
        {
          "output_type": "stream",
          "text": [
            "Mounted at /content/drive\n",
            "You are on Colab with tensorflow version: 2.4.1\n",
            "time: testing 0: 002: 03.00\n"
          ],
          "name": "stdout"
        }
      ]
    },
    {
      "cell_type": "code",
      "metadata": {
        "colab": {
          "base_uri": "https://localhost:8080/"
        },
        "id": "fBchbZScPt80",
        "outputId": "f3146123-0350-4bea-f419-641a1b771207"
      },
      "source": [
        "!pip install scikit-survival"
      ],
      "execution_count": 2,
      "outputs": [
        {
          "output_type": "stream",
          "text": [
            "Collecting scikit-survival\n",
            "\u001b[?25l  Downloading https://files.pythonhosted.org/packages/4d/07/10e960674a7d9660f1b19d206ce37afabba0f443d6c72bcc8945d617d890/scikit-survival-0.14.0.tar.gz (2.3MB)\n",
            "\u001b[K     |████████████████████████████████| 2.3MB 12.5MB/s \n",
            "\u001b[?25h  Installing build dependencies ... \u001b[?25l\u001b[?25hdone\n",
            "  Getting requirements to build wheel ... \u001b[?25l\u001b[?25hdone\n",
            "    Preparing wheel metadata ... \u001b[?25l\u001b[?25hdone\n",
            "Requirement already satisfied: scipy!=1.3.0,>=1.0 in /usr/local/lib/python3.6/dist-packages (from scikit-survival) (1.4.1)\n",
            "Requirement already satisfied: osqp!=0.6.0,!=0.6.1 in /usr/local/lib/python3.6/dist-packages (from scikit-survival) (0.6.2.post0)\n",
            "Requirement already satisfied: pandas>=0.21 in /usr/local/lib/python3.6/dist-packages (from scikit-survival) (1.1.5)\n",
            "Requirement already satisfied: scikit-learn<0.24,>=0.22.0 in /usr/local/lib/python3.6/dist-packages (from scikit-survival) (0.22.2.post1)\n",
            "Requirement already satisfied: numpy in /usr/local/lib/python3.6/dist-packages (from scikit-survival) (1.19.5)\n",
            "Requirement already satisfied: cvxopt in /usr/local/lib/python3.6/dist-packages (from scikit-survival) (1.2.5)\n",
            "Requirement already satisfied: joblib in /usr/local/lib/python3.6/dist-packages (from scikit-survival) (1.0.0)\n",
            "Requirement already satisfied: numexpr in /usr/local/lib/python3.6/dist-packages (from scikit-survival) (2.7.2)\n",
            "Requirement already satisfied: cvxpy>=1.0 in /usr/local/lib/python3.6/dist-packages (from scikit-survival) (1.0.31)\n",
            "Requirement already satisfied: qdldl in /usr/local/lib/python3.6/dist-packages (from osqp!=0.6.0,!=0.6.1->scikit-survival) (0.1.5.post0)\n",
            "Requirement already satisfied: python-dateutil>=2.7.3 in /usr/local/lib/python3.6/dist-packages (from pandas>=0.21->scikit-survival) (2.8.1)\n",
            "Requirement already satisfied: pytz>=2017.2 in /usr/local/lib/python3.6/dist-packages (from pandas>=0.21->scikit-survival) (2018.9)\n",
            "Requirement already satisfied: multiprocess in /usr/local/lib/python3.6/dist-packages (from cvxpy>=1.0->scikit-survival) (0.70.11.1)\n",
            "Requirement already satisfied: ecos>=2 in /usr/local/lib/python3.6/dist-packages (from cvxpy>=1.0->scikit-survival) (2.0.7.post1)\n",
            "Requirement already satisfied: scs>=1.1.3 in /usr/local/lib/python3.6/dist-packages (from cvxpy>=1.0->scikit-survival) (2.1.2)\n",
            "Requirement already satisfied: six>=1.5 in /usr/local/lib/python3.6/dist-packages (from python-dateutil>=2.7.3->pandas>=0.21->scikit-survival) (1.15.0)\n",
            "Requirement already satisfied: dill>=0.3.3 in /usr/local/lib/python3.6/dist-packages (from multiprocess->cvxpy>=1.0->scikit-survival) (0.3.3)\n",
            "Building wheels for collected packages: scikit-survival\n",
            "  Building wheel for scikit-survival (PEP 517) ... \u001b[?25l\u001b[?25hdone\n",
            "  Created wheel for scikit-survival: filename=scikit_survival-0.14.0-cp36-cp36m-linux_x86_64.whl size=4056579 sha256=6d01a764252259ccddd794422ebb3a6719ad6fad2bc1c05f7e93bd2c29cd660a\n",
            "  Stored in directory: /root/.cache/pip/wheels/f4/af/94/be84d2dc68a947ad2859b1608f1d57a4328465a0b00b0fb4ac\n",
            "Successfully built scikit-survival\n",
            "Installing collected packages: scikit-survival\n",
            "Successfully installed scikit-survival-0.14.0\n"
          ],
          "name": "stdout"
        }
      ]
    },
    {
      "cell_type": "code",
      "metadata": {
        "id": "SWidbbSvO01x"
      },
      "source": [
        "import numpy as np\n",
        "import matplotlib.pyplot as plt\n",
        "import pandas as pd\n",
        "import tensorflow as tf\n",
        "from typing import Any, Optional, Tuple, Dict, Iterable, Sequence\n",
        "from pathlib import Path\n",
        "from sklearn.model_selection import train_test_split\n",
        "from sksurv.nonparametric import kaplan_meier_estimator\n",
        "from sksurv.metrics import concordance_index_censored \n",
        "%matplotlib inline\n"
      ],
      "execution_count": 35,
      "outputs": []
    },
    {
      "cell_type": "code",
      "metadata": {
        "id": "-fWuHKqpQ3R-"
      },
      "source": [
        "#Import mnist data from keras:\n",
        "#We are going to simulate survival time based on risk-scores simulated from mnist labels:\n"
      ],
      "execution_count": 4,
      "outputs": []
    },
    {
      "cell_type": "code",
      "metadata": {
        "id": "cPLa5oF7RLV2",
        "colab": {
          "base_uri": "https://localhost:8080/"
        },
        "outputId": "cc2e82de-0ea8-48a3-9da4-4fced072569e"
      },
      "source": [
        "(x_train, y_train), (x_test, y_test) = tf.keras.datasets.mnist.load_data()"
      ],
      "execution_count": 5,
      "outputs": [
        {
          "output_type": "stream",
          "text": [
            "Downloading data from https://storage.googleapis.com/tensorflow/tf-keras-datasets/mnist.npz\n",
            "11493376/11490434 [==============================] - 0s 0us/step\n"
          ],
          "name": "stdout"
        }
      ]
    },
    {
      "cell_type": "code",
      "metadata": {
        "colab": {
          "base_uri": "https://localhost:8080/"
        },
        "id": "pAhchnhjRX7o",
        "outputId": "74cae733-ce08-434e-bbc8-c1eedb8bce72"
      },
      "source": [
        "#Combine the labels and convert the predictores into numpy array:\n",
        "x_train, x_test = x_train.astype(np.float32)/255.0, x_test.astype(np.float32)/255.0\n",
        "y = np.concatenate((y_train, y_test))\n",
        "print(f\"y_train_shape: {y_train.shape}\\ny_test_shape: {y_test.shape}\\ny_shape: {y.shape}\")"
      ],
      "execution_count": 6,
      "outputs": [
        {
          "output_type": "stream",
          "text": [
            "y_train_shape: (60000,)\n",
            "y_test_shape: (10000,)\n",
            "y_shape: (70000,)\n"
          ],
          "name": "stdout"
        }
      ]
    },
    {
      "cell_type": "code",
      "metadata": {
        "id": "PnkFRxUsSOzd"
      },
      "source": [
        "#We are going to simulate survival data of size 70000 samples:"
      ],
      "execution_count": 7,
      "outputs": []
    },
    {
      "cell_type": "code",
      "metadata": {
        "id": "vJ6uV_i9SYF7"
      },
      "source": [
        "#Lets assume we have 4 risk groups (survival function/probabilities will varries accross groups):\n",
        "#The following function will assign the class labels (10 of them) accross the groups:"
      ],
      "execution_count": 8,
      "outputs": []
    },
    {
      "cell_type": "code",
      "metadata": {
        "id": "-OWI3duFTAPj"
      },
      "source": [
        "def _get_risk_scores(y: np.ndarray, n_groups: int = 4, seed: int = 29)->Tuple[pd.DataFrame, np.ndarray]:\n",
        "  classes = np.unique(y)\n",
        "  rnd = np.random.RandomState(seed=seed)\n",
        "  group_assignment = {}\n",
        "  group_members = {}\n",
        "  groups = rnd.randint(n_groups, size = classes.shape)\n",
        "  for label, group in zip(classes, groups):\n",
        "    group_assignment[label] = group\n",
        "    group_members.setdefault(group, []).append(label)\n",
        "  risk_per_class = {}\n",
        "  for label in classes:\n",
        "    group_idx = group_assignment[label]\n",
        "    group = group_members[group_idx]\n",
        "    label_idx = group.index(label)\n",
        "    group_size = len(group)\n",
        "    risk_score = np.sqrt(group_idx + 1e-4)*1.75\n",
        "    risk_score-=(label_idx - (group_size)//2)/25.0\n",
        "    risk_per_class[label] = risk_score\n",
        "  assignment = pd.concat((pd.Series(risk_per_class, name = 'risk_per_class'), pd.Series(group_assignment, name = 'risk_groups')), axis = 1).rename_axis('class_label')\n",
        "  risk_scores = np.array([risk_per_class[yy] for yy in y])\n",
        "  return assignment, risk_scores\n"
      ],
      "execution_count": 9,
      "outputs": []
    },
    {
      "cell_type": "code",
      "metadata": {
        "colab": {
          "base_uri": "https://localhost:8080/"
        },
        "id": "ytts7AyqYiAD",
        "outputId": "4afa332a-d87b-4da1-a9b7-8db669562f06"
      },
      "source": [
        "assignment, risk_scores = _get_risk_scores(y)\n",
        "print(f\"risk_scores_shape:{risk_scores.shape}\")\n",
        "print(assignment.round(3))"
      ],
      "execution_count": 10,
      "outputs": [
        {
          "output_type": "stream",
          "text": [
            "risk_scores_shape:(70000,)\n",
            "             risk_per_class  risk_groups\n",
            "class_label                             \n",
            "0                     1.830            1\n",
            "1                     3.031            3\n",
            "2                     0.098            0\n",
            "3                     1.790            1\n",
            "4                     2.475            2\n",
            "5                     0.058            0\n",
            "6                     0.018            0\n",
            "7                     1.750            1\n",
            "8                     1.710            1\n",
            "9                    -0.022            0\n"
          ],
          "name": "stdout"
        }
      ]
    },
    {
      "cell_type": "code",
      "metadata": {
        "id": "nNaChjORY044"
      },
      "source": [
        "#We now simulate the survival times based on the risk score with the assumption of exponential distribution survival time"
      ],
      "execution_count": 11,
      "outputs": []
    },
    {
      "cell_type": "code",
      "metadata": {
        "id": "65jFWbqipE_e"
      },
      "source": [
        "class SurvData:\n",
        "  def __init__(self, sample_size: int, avg_surv_time: float,censored_prob: float)->None:\n",
        "    self.sample_size = sample_size\n",
        "    self.avg_surv_time = avg_surv_time\n",
        "    self.censored_prob = censored_prob\n",
        "  \n",
        "  def _get_surv_data(self, risk_score: np.ndarray, seed: int = 12)->Tuple[np.ndarray, np.ndarray]:\n",
        "    rnd = np.random.RandomState(seed = seed)\n",
        "    b_hazard = 1.0/self.avg_surv_time\n",
        "    scale = b_hazard * np.exp(risk_score)\n",
        "    u = rnd.uniform(low = 0, high = 1, size = risk_score.shape[0])\n",
        "    t = -np.log(u)/scale\n",
        "    qtl = np.quantile(t, 1.0 - self.censored_prob)\n",
        "    c = rnd.uniform(low = t.min(), high = qtl)\n",
        "    event_obs = t<=c\n",
        "    time_obs = np.where(event_obs, t,c)\n",
        "    return time_obs, event_obs"
      ],
      "execution_count": 12,
      "outputs": []
    },
    {
      "cell_type": "code",
      "metadata": {
        "id": "qjFFTWlgsnHC"
      },
      "source": [
        "surv_data = SurvData(sample_size = y.shape[0], avg_surv_time = 365.0, censored_prob = 0.45)"
      ],
      "execution_count": 13,
      "outputs": []
    },
    {
      "cell_type": "code",
      "metadata": {
        "id": "noz-N7j4tHcB"
      },
      "source": [
        "surv_time, event = surv_data._get_surv_data(risk_scores)"
      ],
      "execution_count": 14,
      "outputs": []
    },
    {
      "cell_type": "code",
      "metadata": {
        "colab": {
          "base_uri": "https://localhost:8080/"
        },
        "id": "3RcJ48rQtUL6",
        "outputId": "c77e4441-db85-4d20-949a-f9ff2e9a4442"
      },
      "source": [
        "print(f\"sample_surv_time: {surv_time[0:5]}\\nsample_events: {event[0:5]}\")"
      ],
      "execution_count": 15,
      "outputs": [
        {
          "output_type": "stream",
          "text": [
            "sample_surv_time: [38.58586192 17.62451573 38.58586192 11.05961388 38.58586192]\n",
            "sample_events: [False  True False  True False]\n"
          ],
          "name": "stdout"
        }
      ]
    },
    {
      "cell_type": "code",
      "metadata": {
        "id": "lsUzMLNMvlhQ"
      },
      "source": [
        "#Now we have survival time and event set generated based on the four risk groups:\n",
        "#We can split the data into training and validation set as follow:"
      ],
      "execution_count": 16,
      "outputs": []
    },
    {
      "cell_type": "code",
      "metadata": {
        "id": "l35xT_GswEfI"
      },
      "source": [
        "event_train = event[:y_train.shape[0]]\n",
        "time_train = surv_time[:y_train.shape[0]]\n",
        "event_eval = event[y_train.shape[0]:]\n",
        "time_eval = surv_time[y_train.shape[0]:]"
      ],
      "execution_count": 17,
      "outputs": []
    },
    {
      "cell_type": "code",
      "metadata": {
        "colab": {
          "base_uri": "https://localhost:8080/"
        },
        "id": "Ub4DpC1yw3xk",
        "outputId": "e9261486-b404-40a9-9dca-662a17d0f493"
      },
      "source": [
        "#Print the shape of the above data\n",
        "print(f\"event_train_shape: {event_train.shape}, event_eval_shape: {event_eval.shape}\\ntime_train_shape: {time_train.shape}, time_eval_shape: {time_eval.shape}\")"
      ],
      "execution_count": 18,
      "outputs": [
        {
          "output_type": "stream",
          "text": [
            "event_train_shape: (60000,), event_eval_shape: (10000,)\n",
            "time_train_shape: (60000,), time_eval_shape: (10000,)\n"
          ],
          "name": "stdout"
        }
      ]
    },
    {
      "cell_type": "code",
      "metadata": {
        "id": "o2eKC88pxZWj"
      },
      "source": [
        "#Print out percentage of censored observation in the training and evaluation set:\n",
        "cens_pct_train = (np.sum(~(event_train))/len(event_train))* 100"
      ],
      "execution_count": 19,
      "outputs": []
    },
    {
      "cell_type": "code",
      "metadata": {
        "id": "t6eVh6o8yGcs"
      },
      "source": [
        "cens_pct_eval = (np.sum(~(event_eval)/len(event_eval)))*100"
      ],
      "execution_count": 20,
      "outputs": []
    },
    {
      "cell_type": "code",
      "metadata": {
        "colab": {
          "base_uri": "https://localhost:8080/"
        },
        "id": "r-pmxfoAydRb",
        "outputId": "84472ac8-14fb-45cb-cbd4-5ea16158a752"
      },
      "source": [
        "print(f\"Percentage of censores in train: {cens_pct_train:.3f} %\\nPercentage of censores in evaluation set:{cens_pct_eval:.3f} %\")"
      ],
      "execution_count": 21,
      "outputs": [
        {
          "output_type": "stream",
          "text": [
            "Percentage of censores in train: 60.427 %\n",
            "Percentage of censores in evaluation set:60.260 %\n"
          ],
          "name": "stdout"
        }
      ]
    },
    {
      "cell_type": "code",
      "metadata": {
        "id": "FHsz8mJizPqS"
      },
      "source": [
        "#We can evaluate our model by using concordance index. This is the degree of matching \n",
        "#between ordered survival times and predicted risks (Just like rank correlation coeff)\n",
        "#Assuming the simulated risk scores we can compute the estimate of this coefficient as follow (untrained model) "
      ],
      "execution_count": 22,
      "outputs": []
    },
    {
      "cell_type": "code",
      "metadata": {
        "id": "wX_VrPPc0H6O"
      },
      "source": [
        "c_index = concordance_index_censored(event_eval, time_eval,risk_scores[y_train.shape[0]:])"
      ],
      "execution_count": 23,
      "outputs": []
    },
    {
      "cell_type": "code",
      "metadata": {
        "colab": {
          "base_uri": "https://localhost:8080/"
        },
        "id": "GhDSRGLJ0oLj",
        "outputId": "fbc53c6d-1a5f-4c4e-9d51-9f51c07f5a19"
      },
      "source": [
        "print(f\"We cannot obtain performance with c_index better than:{c_index[0]:.3f}\")"
      ],
      "execution_count": 24,
      "outputs": [
        {
          "output_type": "stream",
          "text": [
            "We cannot obtain performance with c_index better than:0.749\n"
          ],
          "name": "stdout"
        }
      ]
    },
    {
      "cell_type": "code",
      "metadata": {
        "id": "Z5WsGPVi04An"
      },
      "source": [
        "#We can plot the survival functions to see the performance accrross the  classes:"
      ],
      "execution_count": 25,
      "outputs": []
    },
    {
      "cell_type": "code",
      "metadata": {
        "colab": {
          "base_uri": "https://localhost:8080/",
          "height": 325
        },
        "id": "oTwj6Q7o1jT7",
        "outputId": "2d342d1f-074d-4dfd-f392-1069aaf891a2"
      },
      "source": [
        "plt.style.use('fivethirtyeight')\n",
        "style = ('-','-.','--',':')\n",
        "for row in assignment.itertuples():\n",
        "  mask = y_train == row.Index\n",
        "  x_cor, y_cor = kaplan_meier_estimator(event_train[mask], time_train[mask])\n",
        "  ls = style[row.risk_groups]\n",
        "  plt.step(x_cor, y_cor, where = 'post',label = f\"class: {row.Index}\", linestyle = ls)\n",
        "  plt.ylim(0,1)\n",
        "  plt.xlabel('Survival time')\n",
        "  plt.ylabel('Survival probability')\n",
        "  plt.title('Survival curves')\n",
        "  plt.legend()\n",
        "  \n",
        "\n",
        "\n"
      ],
      "execution_count": 26,
      "outputs": [
        {
          "output_type": "display_data",
          "data": {
            "image/png": "[encoded data removed]",
            "text/plain": [
              "<Figure size 432x288 with 1 Axes>"
            ]
          },
          "metadata": {
            "tags": []
          }
        }
      ]
    },
    {
      "cell_type": "code",
      "metadata": {
        "id": "ueMpdTTT34ly"
      },
      "source": [
        "#We can training the neural network to optimize the cph partial log likelihood function:\n",
        "#We prepare the data, get the shapes, change into tensors, divide into batches and computing\n",
        "#The loss function. The hard work will be computation of the loss function (The denominator of the partial log-likelihood)\n",
        "#which represent the risk set involves some tedious codding:"
      ],
      "execution_count": 27,
      "outputs": []
    },
    {
      "cell_type": "code",
      "metadata": {
        "id": "Ngt0CUIw46uu"
      },
      "source": [
        "#We now create the risk set as follows:"
      ],
      "execution_count": 28,
      "outputs": []
    },
    {
      "cell_type": "code",
      "metadata": {
        "id": "QXgTsaFy4-DP"
      },
      "source": [
        "def _risk_set_creation(time: np.ndarray)->np.ndarray:\n",
        "  assert time.ndim == 1 #must be of dim-1\n",
        "  o = np.argsort(-time, kind = 'mergesort')\n",
        "  sample_size = len(time)\n",
        "  risk_set = np.zeros(shape = (sample_size, sample_size), dtype = np.bool)\n",
        "  for i, j in enumerate(o):\n",
        "    ti = time[j]\n",
        "    k = i\n",
        "    while k < sample_size and ti == time[o[k]]:\n",
        "      k+=1\n",
        "      risk_set[j, o[:k]] = True\n",
        "  return risk_set\n",
        "\n"
      ],
      "execution_count": 29,
      "outputs": []
    },
    {
      "cell_type": "code",
      "metadata": {
        "id": "ixDR6ot3mxsl"
      },
      "source": [
        "#Since we cannot load all the data into the memory \n",
        "#We create a class to streams data in batches for easy training: \n",
        "class InputFunction:\n",
        "  def __init__(self,\n",
        "               image:np.ndarray,\n",
        "               event: np.ndarray,\n",
        "               time: np.ndarray,\n",
        "               shuffle: np.bool = False,\n",
        "               drop_last: np.bool = False,\n",
        "               seed: int = 23,\n",
        "               batch_size: int = 64,\n",
        "               )-> None:\n",
        "    if image.ndim == 3:\n",
        "      image = image[..., np.newaxis]\n",
        "    self.image = image\n",
        "    self.time = time\n",
        "    self.event = event\n",
        "    self.shuffle = shuffle\n",
        "    self.drop_last = drop_last\n",
        "    self.seed = seed\n",
        "    self.batch_size = batch_size\n",
        "  \n",
        "  def size(self)-> int:\n",
        "    return self.image.shape[0]\n",
        "  \n",
        "  def steps_per_epoch(self)-> int:\n",
        "    return int(np.floor(self.size()/self.batch_size))\n",
        "  def _get_data_batch(self, index: np.ndarray)-> Tuple[np.ndarray, Dict[str, np.ndarray]]:\n",
        "    time = self.time[index]\n",
        "    event = self.event[index]\n",
        "    image = self.image[index]\n",
        "    labels = {'label_event': event.astype(np.int32),\n",
        "              'label_time': time.astype(np.float32),\n",
        "              'label_riskset': _risk_set_creation(time)}\n",
        "    return image, labels\n",
        "  def _iter_data(self)-> Iterable[Tuple[np.ndarray, Dict[str, np.ndarray]]]:\n",
        "    index = np.arrange(self.size())\n",
        "    rnd = np.random.RandomState(self.seed)\n",
        "    if self.shuffle:\n",
        "      rnd.shuffle(index)\n",
        "    for b in range(steps_per_epoch()):\n",
        "      start = b * self.batch_size\n",
        "      idx = index[start:(start + self.batch_size)]\n",
        "      yield self._get_data_batch(idx)\n",
        "    if not self.drop_last:\n",
        "      start = self.steps_per_epoch() * self.batch_size\n",
        "      idx = index[start:]\n",
        "      yield self._get_data_batch(idx)\n",
        "  def _get_shape(self)-> Tuple[tf.TensorShape, Dict[str, tf.TensorShape]]:\n",
        "    batch_size = self.batch_size if self.drop_last else None\n",
        "    h, w, c = self.image[1:]\n",
        "    image = tf.TensorShape([batch_size, h, w, c])\n",
        "    labels = {k: tf.TensorShape((batch_size,))\n",
        "    for k in ('label_event', 'label_time')}\n",
        "    return image, labels\n",
        "  def get_dtype(self)->Tuple[tf.DType, Dict[str, tf.DType]]:\n",
        "    labels = {\n",
        "        'label_event':tf.int32,\n",
        "        'label_time': tf.float32,\n",
        "        'label_riskset': tf.bool}\n",
        "    return tf.float32, labels\n",
        "  def create_dataset(self)->tf.data.Dataset:\n",
        "    dfm = tf.data.Dataset.from_generator(\n",
        "        self._iter_data,\n",
        "        self._get_shape(),\n",
        "        self.get_dtype())\n",
        "    return dfm\n",
        "  def __call__(self)->tf.data.Dataset:\n",
        "    return self.create_dataset()\n"
      ],
      "execution_count": 30,
      "outputs": []
    },
    {
      "cell_type": "code",
      "metadata": {
        "id": "GCMSzL-7FA4M"
      },
      "source": [
        "#We now normalize the risk-scores to varies in a positive range of values and avoiding extremes \n",
        "#when computing the exponent.\n"
      ],
      "execution_count": 31,
      "outputs": []
    },
    {
      "cell_type": "code",
      "metadata": {
        "id": "ZbI5IW0KF324"
      },
      "source": [
        "def nomalize_risk_scores(x: tf.Tensor)->tf.Tensor:\n",
        "  x_min_value = tf.reduce_min(x, axis = 0)\n",
        "  ctr = tf.zero_like(x_min_value)\n",
        "  x_norm = tf.where(x_min_value < ctr, -x_min_value, ctr)\n",
        "  return x + x_norm"
      ],
      "execution_count": 32,
      "outputs": []
    },
    {
      "cell_type": "code",
      "metadata": {
        "id": "MPQZ_ncMHtjE"
      },
      "source": [
        "#We now compute the log_summation of the denominator of the CPH partial-likelihood function:\n",
        "def comp_logsum(risk_scores: tf.Tensor,\n",
        "                mask: tf.Tensor,\n",
        "                axis: int = 0,\n",
        "                keepdims:Optional[bool] = None)-> tf.Tensor:\n",
        "  risk_scores.shape.assert_same_rank(mask.shape)\n",
        "  with tf.name_scope('comp_logsum'):\n",
        "    mask_c = tf.cast(mask, risk_scores.dtype)\n",
        "    masked_risk_scores = tf.math.multiply(risk_scores, mask_c)\n",
        "    max_score = tf.reduce_max(masked_risk_scores, axis = axis, keepdims= True) \n",
        "    masked_risk_scores_adj = masked_risk_scores - max_score #We adjust the risk-scores to avoid extremes in exponents\n",
        "    exp_masked = tf.math.multiply(tf.exp(masked_risk_scores_adj), mask_c)\n",
        "    exp_sum = tf.reduce_sum(exp_masked, axis = axis, keepdims = True)\n",
        "    output = max_score + tf.math.log(exp_sum)\n",
        "    if not keepdims:\n",
        "      output = tf.squeeze(output, axis = axis)\n",
        "  return output\n",
        "\n"
      ],
      "execution_count": 33,
      "outputs": []
    },
    {
      "cell_type": "code",
      "metadata": {
        "id": "F6qAvV8hRNx-"
      },
      "source": [
        "#Now we compute the loss function (CPH-Loss) using the above tools:"
      ],
      "execution_count": 34,
      "outputs": []
    },
    {
      "cell_type": "code",
      "metadata": {
        "id": "cq3QiZ9GRdu5"
      },
      "source": [
        "class My_CPH_Loss(tf.keras.losses.Loss):\n",
        "  def __init__(self, name = 'cph_loss', **kwargs):\n",
        "    super(My_Loss, self).__init__(name = name, **kwargs)\n",
        "  \n",
        "  def call(self, y_real: Sequence[tf.Tensor],\n",
        "                y_pred: tf.Tensor)->tf.Tensor:\n",
        "    event, riskset = y_real\n",
        "    predictions = y_pred\n",
        "\n",
        "    pred_shape = predictions.shape\n",
        "    if pred_shape.ndims != 2:\n",
        "      raise ValueError(f\"rank mismatch: rank of prediction received is {pre_shape.ndims}: must be 2\")\n",
        "    if pred_shape[1] is None:\n",
        "      raise ValueError(f\"the last dimension of the prediction must be known\")\n",
        "    if pred_shape[1] != 1:\n",
        "      raise ValueError(f\"The last dimension of the prediction must be 1:{pred_shape[1]} were given\")\n",
        "    if event.shape.ndims != pred_shape.ndims:\n",
        "      raise ValueError(f\"dimension mismatch: rank {pred_shape.ndims}of the prediction given is not equal to the rank {event.shape.ndims} of event given\")\n",
        "    if riskset.shape.ndims != 2:\n",
        "      raise ValueError(f\"rank mismatch: the rank of the risk set must be 2: {riskset.shape.ndims} were given\")\n",
        "    \n",
        "    event = tf.cast(event, predictions.dtype)\n",
        "    predictions = nomalize_risk_scores(predictions)\n",
        "\n",
        "    with tf.name_scope('assertions'):\n",
        "      assertions = (\n",
        "          tf.debugging.assert_less_equal(event, 1.),\n",
        "          tf.debugging.assert_greater_equal(event,0.),\n",
        "          tf.debugging.assert_type(riskset, tf.bool)\n",
        "      )\n",
        "    predictions_trn = tf.transpose(predictions) #Move the batch dimension to the end to allow broadcasting in preds when get multiplied by a riskset\n",
        "    my_risk = comp_logsum(predictions_trn, riskset, axis = 1, keepdims = True)\n",
        "    assert my_risk.shape.as_list() == predictions.shape.as_list() #risk scores must be same dimension as predictions:\n",
        "    losses = tf.math.multiply(event, (my_risk - predictions)) #Loss per instance\n",
        "    return losses\n",
        "\n",
        "  "
      ],
      "execution_count": 37,
      "outputs": []
    },
    {
      "cell_type": "code",
      "metadata": {
        "id": "_L16ZM2aeLdP"
      },
      "source": [
        ""
      ],
      "execution_count": null,
      "outputs": []
    }
  ]
}