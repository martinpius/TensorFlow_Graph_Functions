{
  "nbformat": 4,
  "nbformat_minor": 0,
  "metadata": {
    "colab": {
      "name": "Tensorflow_Keras_Layers and Models Building From Scratch.ipynb",
      "provenance": [],
      "authorship_tag": "ABX9TyNoC/o68dfPeB/Hba4CCv5Q",
      "include_colab_link": true
    },
    "kernelspec": {
      "name": "python3",
      "display_name": "Python 3"
    }
  },
  "cells": [
    {
      "cell_type": "markdown",
      "metadata": {
        "id": "view-in-github",
        "colab_type": "text"
      },
      "source": [
        "<a href=\"https://colab.research.google.com/github/martinpius/TensorFlow_Graph_Functions/blob/main/Tensorflow_Keras_Layers_and_Models_Building_From_Scratch.ipynb\" target=\"_parent\"><img src=\"https://colab.research.google.com/assets/colab-badge.svg\" alt=\"Open In Colab\"/></a>"
      ]
    },
    {
      "cell_type": "code",
      "metadata": {
        "colab": {
          "base_uri": "https://localhost:8080/"
        },
        "id": "i02wEWST5u4u",
        "outputId": "a35fb362-1991-4e9c-f04d-ca39e189a79a"
      },
      "source": [
        "#Setting up the colab environment:\n",
        "from google.colab import drive\n",
        "try:\n",
        "  drive.mount(\"/content/drive\", force_remount = True)\n",
        "  COLAB = True\n",
        "  import tensorflow as tf\n",
        "  print(f\"You are using Google colab with tensorflow version: {tf.__version__}\")\n",
        "except:\n",
        "  COLAB = False\n",
        "  print('Please setup the colab environment:')\n",
        "\n",
        "def time_fmt(x):\n",
        "  h = int(x/(60*60))\n",
        "  m = int(x%(60*60)/60)\n",
        "  s = int(x%60)\n",
        "  return f\"{h}: {m:>03}: {s:>05.2f}\""
      ],
      "execution_count": 1,
      "outputs": [
        {
          "output_type": "stream",
          "text": [
            "Mounted at /content/drive\n",
            "You are using Google colab with tensorflow version: 2.3.0\n"
          ],
          "name": "stdout"
        }
      ]
    },
    {
      "cell_type": "code",
      "metadata": {
        "id": "kcYFsmHG7e7V"
      },
      "source": [
        "#Importing necessary packs\n",
        "import tensorflow as tf\n",
        "import numpy as np\n",
        "import matplotlib.pyplot as plt\n",
        "import time\n",
        "import timeit\n",
        "from datetime import datetime\n",
        "plt.style.use('fivethirtyeight')\n",
        "%load_ext tensorboard\n",
        "%matplotlib inline"
      ],
      "execution_count": 2,
      "outputs": []
    },
    {
      "cell_type": "code",
      "metadata": {
        "id": "0lSTuvwK8D2m"
      },
      "source": [
        "#Creating, saving and resoring tensorflow models from scratch (tf building blocks (layers, models, variables))"
      ],
      "execution_count": 3,
      "outputs": []
    },
    {
      "cell_type": "code",
      "metadata": {
        "colab": {
          "base_uri": "https://localhost:8080/"
        },
        "id": "oeSgb4hZ8sQj",
        "outputId": "e42e87c8-0214-4075-8330-ff8fc2827508"
      },
      "source": [
        "#A simple tensorflow module example\n",
        "class MytfModule(tf.Module):\n",
        "  def __init__(self, name = None):\n",
        "    super(MytfModule, self).__init__(name = name)\n",
        "    self.var_train = tf.Variable(initial_value = 3.1467, trainable = True, name = 'trainable_variable')\n",
        "    self.var_non_train = tf.Variable(initial_value = 12.8, trainable = False, name = 'non_trainable_variable')\n",
        "  \n",
        "  def __call__(self, inputs):\n",
        "    out = tf.multiply(self.var_train, inputs) + self.var_non_train\n",
        "    return out\n",
        "mymodule = MytfModule(name = 'test')\n",
        "mymodule(tf.constant(2, dtype= tf.float32))"
      ],
      "execution_count": 6,
      "outputs": [
        {
          "output_type": "execute_result",
          "data": {
            "text/plain": [
              "<tf.Tensor: shape=(), dtype=float32, numpy=19.0934>"
            ]
          },
          "metadata": {
            "tags": []
          },
          "execution_count": 6
        }
      ]
    },
    {
      "cell_type": "code",
      "metadata": {
        "colab": {
          "base_uri": "https://localhost:8080/"
        },
        "id": "0N97n0CSYe4V",
        "outputId": "7054bdb6-b150-4974-a01e-332161110e72"
      },
      "source": [
        "#Subclassing\n",
        "print(f\"Total variables: {mymodule.variables}\\nTrainable variables: {mymodule.trainable_variables}\\nNon trainable variables: {mymodule.var_non_train}\")"
      ],
      "execution_count": 7,
      "outputs": [
        {
          "output_type": "stream",
          "text": [
            "Total variables: (<tf.Variable 'non_trainable_variable:0' shape=() dtype=float32, numpy=12.8>, <tf.Variable 'trainable_variable:0' shape=() dtype=float32, numpy=3.1467>)\n",
            "Trainable variables: (<tf.Variable 'trainable_variable:0' shape=() dtype=float32, numpy=3.1467>,)\n",
            "Non trainable variables: <tf.Variable 'non_trainable_variable:0' shape=() dtype=float32, numpy=12.8>\n"
          ],
          "name": "stdout"
        }
      ]
    },
    {
      "cell_type": "code",
      "metadata": {
        "colab": {
          "base_uri": "https://localhost:8080/"
        },
        "id": "79x3EGOcbRw4",
        "outputId": "a66ca2f6-b5fd-43bc-8ed7-cd2b1116eea4"
      },
      "source": [
        "#Tensorflow linear dense layer\n",
        "class tfLinear(tf.Module):\n",
        "  def __init__(self, a, b, name = None):\n",
        "    super(tfLinear, self).__init__(name = name)\n",
        "    self.w = tf.Variable(tf.random.normal([a, b]), name = 'weight')\n",
        "    self.b = tf.Variable(tf.zeros(b,),name = 'bias')\n",
        "  def __call__(self, inputs):\n",
        "    out = tf.matmul(inputs, self.w) + self.b\n",
        "    return tf.nn.relu(out)\n",
        "\n",
        "mylinear = tfLinear(4,4)\n",
        "x = tf.ones(shape = [2,4])\n",
        "mylinear(x)"
      ],
      "execution_count": 11,
      "outputs": [
        {
          "output_type": "execute_result",
          "data": {
            "text/plain": [
              "<tf.Tensor: shape=(2, 4), dtype=float32, numpy=\n",
              "array([[2.918643, 0.      , 0.      , 0.      ],\n",
              "       [2.918643, 0.      , 0.      , 0.      ]], dtype=float32)>"
            ]
          },
          "metadata": {
            "tags": []
          },
          "execution_count": 11
        }
      ]
    },
    {
      "cell_type": "code",
      "metadata": {
        "colab": {
          "base_uri": "https://localhost:8080/"
        },
        "id": "e4hXjytBepau",
        "outputId": "e0f894b0-eddf-4086-8140-bcd96014cac3"
      },
      "source": [
        "#A complete two layers sequential model\n",
        "class CModel(tf.Module):\n",
        "  def __init__(self, name = None):\n",
        "    super(CModel, self).__init__(name = name)\n",
        "    self.l1 = tf.keras.layers.Dense(units = 32,activation = 'relu')\n",
        "    self.l2 = tf.keras.layers.Dense(units = 10, activation = 'softmax')\n",
        "  def __call__(self, inputs):\n",
        "    inputs = self.l1(inputs)\n",
        "    inputs = self.l2(inputs)\n",
        "    return inputs\n",
        "\n",
        "cmodel = CModel(name = 'test')\n",
        "x = tf.ones(shape = (2,2))\n",
        "cmodel(x)\n"
      ],
      "execution_count": 17,
      "outputs": [
        {
          "output_type": "execute_result",
          "data": {
            "text/plain": [
              "<tf.Tensor: shape=(2, 10), dtype=float32, numpy=\n",
              "array([[0.18298353, 0.10244988, 0.06593654, 0.07529923, 0.09981593,\n",
              "        0.10032313, 0.0728466 , 0.09589595, 0.08598776, 0.11846139],\n",
              "       [0.18298353, 0.10244988, 0.06593654, 0.07529923, 0.09981593,\n",
              "        0.10032313, 0.0728466 , 0.09589595, 0.08598776, 0.11846139]],\n",
              "      dtype=float32)>"
            ]
          },
          "metadata": {
            "tags": []
          },
          "execution_count": 17
        }
      ]
    },
    {
      "cell_type": "code",
      "metadata": {
        "colab": {
          "base_uri": "https://localhost:8080/"
        },
        "id": "hulkYuoUhAZU",
        "outputId": "9d44670b-ca58-43a2-b0d3-18a0259501af"
      },
      "source": [
        "print(f\"sub_modules: {cmodel.submodules}\")"
      ],
      "execution_count": 18,
      "outputs": [
        {
          "output_type": "stream",
          "text": [
            "sub_modules: (<tensorflow.python.keras.layers.core.Dense object at 0x7f9907546160>, <tensorflow.python.keras.layers.core.Dense object at 0x7f9906dfc0f0>)\n"
          ],
          "name": "stdout"
        }
      ]
    },
    {
      "cell_type": "code",
      "metadata": {
        "colab": {
          "base_uri": "https://localhost:8080/"
        },
        "id": "rBR88_-mi0SP",
        "outputId": "4b82d855-d35b-4d29-d851-5c4499ed30d0"
      },
      "source": [
        "for k in cmodel.variables: #Print detail for each trainable variable\n",
        "  print(k,'\\n')"
      ],
      "execution_count": 19,
      "outputs": [
        {
          "output_type": "stream",
          "text": [
            "<tf.Variable 'dense_6/kernel:0' shape=(2, 32) dtype=float32, numpy=\n",
            "array([[-0.38307554,  0.18238357,  0.25887898,  0.07245845, -0.1901091 ,\n",
            "         0.41114643,  0.30987307,  0.18072388,  0.1292989 ,  0.345185  ,\n",
            "        -0.20336202, -0.22214454,  0.38808712, -0.17267317,  0.29445747,\n",
            "        -0.38313264,  0.15546867, -0.09310195,  0.3474876 , -0.01796907,\n",
            "         0.06588152,  0.28276607,  0.27711245,  0.05067405,  0.38696352,\n",
            "         0.29775217, -0.40599662,  0.23794594, -0.21503389, -0.22143203,\n",
            "         0.25208953,  0.15029296],\n",
            "       [-0.0788587 ,  0.40235552, -0.08879897,  0.13614234, -0.09167454,\n",
            "         0.26369378, -0.2512256 , -0.18345875, -0.11385334,  0.14941588,\n",
            "         0.2637755 ,  0.05049658,  0.12245014, -0.20564067,  0.01229644,\n",
            "        -0.4021427 , -0.04697248,  0.08644852, -0.13213319, -0.37348834,\n",
            "        -0.24059285,  0.01186916, -0.2183887 , -0.23583254, -0.32253975,\n",
            "         0.2607861 , -0.05810753,  0.02656052,  0.00277743,  0.30351993,\n",
            "        -0.28199285,  0.07476342]], dtype=float32)> \n",
            "\n",
            "<tf.Variable 'dense_6/bias:0' shape=(32,) dtype=float32, numpy=\n",
            "array([0., 0., 0., 0., 0., 0., 0., 0., 0., 0., 0., 0., 0., 0., 0., 0., 0.,\n",
            "       0., 0., 0., 0., 0., 0., 0., 0., 0., 0., 0., 0., 0., 0., 0.],\n",
            "      dtype=float32)> \n",
            "\n",
            "<tf.Variable 'dense_7/kernel:0' shape=(32, 10) dtype=float32, numpy=\n",
            "array([[-0.270554  ,  0.06316748,  0.2193419 ,  0.28460768,  0.3108556 ,\n",
            "         0.02915594, -0.23296252,  0.3719791 ,  0.01115799,  0.05769685],\n",
            "       [ 0.30988047,  0.3372117 ,  0.02148584, -0.25830442,  0.26213065,\n",
            "        -0.33788332,  0.18583879, -0.08649191, -0.27070495,  0.23026904],\n",
            "       [ 0.36009148, -0.07894388,  0.30630085,  0.2697312 , -0.30085883,\n",
            "         0.04150334,  0.32792243,  0.06913662,  0.05368039, -0.35839716],\n",
            "       [ 0.00315046,  0.00385848, -0.18025282,  0.23810163, -0.16283952,\n",
            "         0.3663862 , -0.04124966, -0.21009417, -0.36144093, -0.17842433],\n",
            "       [-0.20408008,  0.2270486 , -0.37432793, -0.35975033, -0.17237662,\n",
            "        -0.05502635,  0.3520573 ,  0.20804796,  0.3650373 ,  0.29717913],\n",
            "       [ 0.24946937,  0.01057413, -0.3117313 , -0.07532835, -0.28779143,\n",
            "         0.00110957, -0.2194925 ,  0.2779962 ,  0.1428968 ,  0.3330361 ],\n",
            "       [ 0.18666038,  0.31453297,  0.3674297 ,  0.02576315,  0.23131219,\n",
            "        -0.11022553, -0.2600336 ,  0.26449808, -0.09622869, -0.06942445],\n",
            "       [ 0.06366661,  0.2452133 ,  0.22649494, -0.29684037,  0.00165233,\n",
            "         0.08725372,  0.23099342,  0.11431703,  0.19099346,  0.20021287],\n",
            "       [-0.02341181,  0.09524474, -0.25339454,  0.05602968, -0.09200811,\n",
            "        -0.27315342,  0.24044105,  0.30787507, -0.20735057, -0.0017556 ],\n",
            "       [ 0.3188264 ,  0.15196434,  0.01223952,  0.1400921 ,  0.0943453 ,\n",
            "         0.36299512,  0.02008149, -0.19006333, -0.02088439,  0.21034601],\n",
            "       [-0.0356555 ,  0.2775965 ,  0.13329133, -0.32925546,  0.04654267,\n",
            "        -0.18806605, -0.23055306, -0.16180158,  0.01523599, -0.06332204],\n",
            "       [-0.271597  , -0.09843928,  0.25797793, -0.2754472 , -0.2595895 ,\n",
            "        -0.25499722, -0.20686449,  0.32878795,  0.2509484 , -0.05194545],\n",
            "       [-0.0158391 , -0.03824455, -0.07501349, -0.03465396,  0.27532277,\n",
            "         0.2084516 , -0.04327831,  0.26451817,  0.26195106, -0.28001776],\n",
            "       [-0.31848496,  0.15466097,  0.01037794,  0.3043361 ,  0.3152937 ,\n",
            "        -0.3741294 ,  0.0141868 , -0.35374793,  0.19604889,  0.01484534],\n",
            "       [ 0.15390995,  0.33076903,  0.19955376, -0.17002095, -0.18133707,\n",
            "        -0.11815697, -0.07950827,  0.30021998, -0.19509573,  0.25935552],\n",
            "       [-0.21914962, -0.11100402,  0.24320367,  0.25117692, -0.151691  ,\n",
            "         0.03169671,  0.03724104, -0.37627268, -0.30881748,  0.02080566],\n",
            "       [ 0.01051998, -0.15318824,  0.2127786 ,  0.33050057, -0.24469957,\n",
            "        -0.25518745,  0.17167589,  0.34903345, -0.19257542, -0.3305269 ],\n",
            "       [-0.27698877, -0.0724045 ,  0.10894337,  0.26406953,  0.28856543,\n",
            "         0.12329617, -0.0513598 ,  0.34687087,  0.33507583, -0.2555827 ],\n",
            "       [ 0.1463159 ,  0.26133963, -0.1430645 ,  0.01157376,  0.2792636 ,\n",
            "         0.24396738, -0.10495764,  0.07451847, -0.33219886,  0.20027468],\n",
            "       [ 0.27542195,  0.22807285,  0.34183994, -0.29356968,  0.3086886 ,\n",
            "        -0.04356143,  0.13628462, -0.10545453,  0.20935336,  0.28813067],\n",
            "       [ 0.37556913,  0.00894848,  0.16103652,  0.05173492,  0.3484724 ,\n",
            "        -0.35431474,  0.3591093 , -0.14631724,  0.34801337, -0.00383568],\n",
            "       [ 0.23944578,  0.0662474 , -0.3225785 , -0.2880152 ,  0.28181842,\n",
            "         0.11584401, -0.16148078, -0.02982196,  0.29679045,  0.0844647 ],\n",
            "       [ 0.3084683 ,  0.12658533,  0.00242028,  0.17443857, -0.052901  ,\n",
            "        -0.26559803,  0.3707995 , -0.10602802,  0.16389117,  0.08154944],\n",
            "       [ 0.26906392,  0.29719487,  0.01827705,  0.15859625,  0.31710806,\n",
            "         0.3183581 , -0.05290893,  0.352374  , -0.2874398 ,  0.20532796],\n",
            "       [ 0.23496136,  0.24817076,  0.08217499,  0.08696544, -0.08177209,\n",
            "         0.30821797, -0.18453169, -0.29795372,  0.28237966,  0.24882236],\n",
            "       [ 0.18954399, -0.29991794,  0.06906444,  0.3050228 ,  0.32195058,\n",
            "         0.2726449 ,  0.11247665, -0.02864265,  0.30228576,  0.33754936],\n",
            "       [-0.36956254, -0.18843263, -0.01173723, -0.21125123,  0.2101799 ,\n",
            "        -0.09244347, -0.11278537, -0.36540622,  0.23823664, -0.36412534],\n",
            "       [ 0.03210023,  0.34968957,  0.1388767 ,  0.09243327,  0.01521435,\n",
            "         0.13087997,  0.066293  ,  0.08358285,  0.00466716, -0.3509518 ],\n",
            "       [-0.11680618,  0.19519451, -0.28420228,  0.20664778, -0.09341174,\n",
            "        -0.20436239,  0.08586878,  0.09030154, -0.23316419, -0.31294245],\n",
            "       [ 0.24178609, -0.22907212,  0.28366032,  0.2961267 , -0.06371051,\n",
            "        -0.00443026, -0.14989305, -0.31962383, -0.30875593, -0.3613609 ],\n",
            "       [ 0.29492512,  0.11911634,  0.23948637, -0.18709606,  0.15795985,\n",
            "         0.12664035, -0.2578533 , -0.30897337,  0.1699821 ,  0.25947335],\n",
            "       [ 0.193131  , -0.1042299 ,  0.1666741 , -0.09401891,  0.07734627,\n",
            "        -0.15235415,  0.16753373,  0.16228703,  0.3580059 ,  0.3691081 ]],\n",
            "      dtype=float32)> \n",
            "\n",
            "<tf.Variable 'dense_7/bias:0' shape=(10,) dtype=float32, numpy=array([0., 0., 0., 0., 0., 0., 0., 0., 0., 0.], dtype=float32)> \n",
            "\n"
          ],
          "name": "stdout"
        }
      ]
    },
    {
      "cell_type": "code",
      "metadata": {
        "id": "yFggOBMctiJk"
      },
      "source": [
        "#Differing the input shape to be defined later in the process\n",
        "class LayerDiff(tf.Module):\n",
        "  def __init__(self,units, name = None):\n",
        "    super(LayerDiff, self).__init__(name = name)\n",
        "    self.built = False\n",
        "    self.units = units\n",
        "  def __call__(self,inputs):\n",
        "    if not self.built:\n",
        "      self.w = tf.Variable(tf.random.normal([inputs.shape[-1], self.units]), name = 'w')\n",
        "      self.b = tf.Variable(tf.zeros([self.units]), name = 'b')\n",
        "      self.built = True\n",
        "    out = tf.matmul(inputs, self.w) + self.b\n",
        "    return tf.nn.relu(out)\n"
      ],
      "execution_count": 42,
      "outputs": []
    },
    {
      "cell_type": "code",
      "metadata": {
        "colab": {
          "base_uri": "https://localhost:8080/"
        },
        "id": "5gr9dFk1y2mW",
        "outputId": "ffe98a97-8e3e-456b-d136-b86328ed1292"
      },
      "source": [
        "layer2 = LayerDiff(units = 32, name = 'dense_1')\n",
        "layer2(tf.constant([[2.0,1.2,4.2,1.3]], dtype = tf.float32))"
      ],
      "execution_count": 43,
      "outputs": [
        {
          "output_type": "execute_result",
          "data": {
            "text/plain": [
              "<tf.Tensor: shape=(1, 32), dtype=float32, numpy=\n",
              "array([[ 2.7706428 ,  5.389567  ,  0.6614248 ,  0.        ,  0.        ,\n",
              "         4.8701158 ,  6.132825  ,  0.92885435,  0.        , 10.943266  ,\n",
              "         0.        ,  0.        ,  1.5967556 , 12.485045  ,  1.5606287 ,\n",
              "         7.0374293 ,  0.        ,  0.        ,  0.        ,  0.        ,\n",
              "         0.2865184 ,  0.        ,  2.7233315 ,  5.779727  ,  4.503691  ,\n",
              "         0.        ,  0.35464546,  1.0434358 ,  0.        ,  0.        ,\n",
              "         7.648142  ,  0.        ]], dtype=float32)>"
            ]
          },
          "metadata": {
            "tags": []
          },
          "execution_count": 43
        }
      ]
    },
    {
      "cell_type": "code",
      "metadata": {
        "colab": {
          "base_uri": "https://localhost:8080/"
        },
        "id": "c9fZomVAzMMN",
        "outputId": "bdf0398c-f94a-48b6-d8a9-87b65ea05968"
      },
      "source": [
        "#We can use the above layer by stacking to create a keras sequential model as follow:\n",
        "class MySequential(tf.Module):\n",
        "  def __init__(self, name = None):\n",
        "    super(MySequential, self).__init__(name = name)\n",
        "    self.l1 = LayerDiff(units = 128, name = 'dense_1')\n",
        "    self.l2 = LayerDiff(units = 64, name = 'dense_2')\n",
        "\n",
        "  def __call__(self, inputs):\n",
        "    inputs = self.l1(inputs)\n",
        "    return self.l2(inputs)\n",
        "\n",
        "myseq = MySequential()\n",
        "print(myseq(tf.constant([[22.1,21.9,11.7,21.8,22.,18.9]])))\n"
      ],
      "execution_count": 46,
      "outputs": [
        {
          "output_type": "stream",
          "text": [
            "tf.Tensor(\n",
            "[[   0.          0.          0.          0.          0.          0.\n",
            "   717.5403      0.         50.61929     0.          0.          0.\n",
            "   651.4185    262.1014      0.          0.        473.8272      0.\n",
            "     0.        380.11584     0.        623.20984   241.90906     0.\n",
            "   277.28412   403.50995   352.8406      0.        217.40596     0.\n",
            "     0.          0.          0.          0.          0.          0.\n",
            "     0.          0.        562.594       0.        384.679      68.72844\n",
            "  1078.0778      0.        157.90181   476.36325    26.828857  461.30505\n",
            "     0.        158.47522     0.          0.          0.          0.\n",
            "     0.         66.13602     0.          0.        491.17984    56.22271\n",
            "     0.        470.70755     0.          0.      ]], shape=(1, 64), dtype=float32)\n"
          ],
          "name": "stdout"
        }
      ]
    },
    {
      "cell_type": "code",
      "metadata": {
        "id": "_3MpNhfI8ogP"
      },
      "source": [
        ""
      ],
      "execution_count": null,
      "outputs": []
    }
  ]
}